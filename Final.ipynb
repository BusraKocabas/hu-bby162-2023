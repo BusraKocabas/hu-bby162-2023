{
  "nbformat": 4,
  "nbformat_minor": 0,
  "metadata": {
    "colab": {
      "provenance": [],
      "mount_file_id": "1lmG9kpfe8QNUybuEERMqve40QNdXfZqz",
      "authorship_tag": "ABX9TyNkgWfv/Sq+eJv8hsMAD6w9",
      "include_colab_link": true
    },
    "kernelspec": {
      "name": "python3",
      "display_name": "Python 3"
    },
    "language_info": {
      "name": "python"
    }
  },
  "cells": [
    {
      "cell_type": "markdown",
      "metadata": {
        "id": "view-in-github",
        "colab_type": "text"
      },
      "source": [
        "<a href=\"https://colab.research.google.com/github/BusraKocabas/hu-bby162-2023/blob/main/Final.ipynb\" target=\"_parent\"><img src=\"https://colab.research.google.com/assets/colab-badge.svg\" alt=\"Open In Colab\"/></a>"
      ]
    },
    {
      "cell_type": "code",
      "execution_count": 2,
      "metadata": {
        "colab": {
          "base_uri": "https://localhost:8080/"
        },
        "id": "MXU5fo1ULAkC",
        "outputId": "d68bc64e-02be-4f25-82f1-062d57240b3a"
      },
      "outputs": [
        {
          "output_type": "stream",
          "name": "stdout",
          "text": [
            "Lütfen isminizi giriniz: Büşra\n",
            "Kütüphane kataloguna hoşgeldiniz, Büşra\n",
            "Menü: 0)Çıkış1)Listele2)Eser ekle3)Katalogu temizle\n",
            "Yapacağınız işlemi seçiniz(0/1/2/3): 2\n",
            "Kitabın adını giriniz: Kiralık Konak\n",
            "Kitabın yazarını giriniz: Yakup Kadri Karaosmanoğlu\n",
            "Basım yılını giriniz: 1922\n",
            "Menü: 0)Çıkış1)Listele2)Eser ekle3)Katalogu temizle\n",
            "Yapacağınız işlemi seçiniz(0/1/2/3): 0\n",
            "Program sonlandırılıyor.\n"
          ]
        }
      ],
      "source": [
        "dosya = \"/content/drive/MyDrive/Colab Notebooks/Veri.txt\"\n",
        "\n",
        "isim = input(\"Lütfen isminizi giriniz: \")\n",
        "print(\"Kütüphane kataloguna hoşgeldiniz,\",isim)\n",
        "\n",
        "def menu():\n",
        "  print(\"Menü: \" + \"0)Çıkış\" + \"1)Listele\" + \"2)Eser ekle\" + \"3)Katalogu temizle\")\n",
        "  sec = input(\"Yapacağınız işlemi seçiniz(0/1/2/3): \")\n",
        "  if sec == \"0\":\n",
        "    print(\"Program sonlandırılıyor.\")\n",
        "  elif sec == \"1\":\n",
        "    listele()\n",
        "  elif sec == \"2\":\n",
        "    ekle()\n",
        "  elif sec == \"3\":\n",
        "    temizle()\n",
        "  else:\n",
        "    print(\"Lütfen bunlardan birini seçiniz(0/1/2/3): \")\n",
        "    menu()\n",
        "\n",
        "\n",
        "def temizle():\n",
        "  islem = open(dosya, \"r\")\n",
        "  islem.close()\n",
        "  menu()\n",
        "\n",
        "\n",
        "def ekle():\n",
        "  islem = open(dosya, \"a\", encoding = \"utf-8\")\n",
        "  ad = input(\"Kitabın adını giriniz: \")\n",
        "  yazar = input(\"Kitabın yazarını giriniz: \")\n",
        "  yil = input(\"Basım yılını giriniz: \")\n",
        "  islem.write(ad.capitalize() + \"|\" + yazar.capitalize() + \"|\" + yil)\n",
        "  islem.close()\n",
        "  menu()\n",
        "\n",
        "\n",
        "def listele():\n",
        "  islem = open(dosya, \"r\")\n",
        "  for satir in islem:\n",
        "    print(satir.strip())\n",
        "  islem.close()\n",
        "  menu()\n",
        "\n",
        "menu()"
      ]
    }
  ]
}