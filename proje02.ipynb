{
  "nbformat": 4,
  "nbformat_minor": 0,
  "metadata": {
    "colab": {
      "provenance": [],
      "authorship_tag": "ABX9TyNmopCTXk6+pd+cWA4egqE5",
      "include_colab_link": true
    },
    "kernelspec": {
      "name": "python3",
      "display_name": "Python 3"
    },
    "language_info": {
      "name": "python"
    }
  },
  "cells": [
    {
      "cell_type": "markdown",
      "metadata": {
        "id": "view-in-github",
        "colab_type": "text"
      },
      "source": [
        "<a href=\"https://colab.research.google.com/github/BusraKocabas/hu-bby162-2023/blob/main/proje02.ipynb\" target=\"_parent\"><img src=\"https://colab.research.google.com/assets/colab-badge.svg\" alt=\"Open In Colab\"/></a>"
      ]
    },
    {
      "cell_type": "markdown",
      "source": [
        "Adam Asmaca Oyunu"
      ],
      "metadata": {
        "id": "UksJizJmGEiT"
      }
    },
    {
      "cell_type": "code",
      "source": [
        "import random\n",
        "\n",
        "kelimeler = [\"sarı\", \"kırmızı\", \"yeşil\", \"mavi\"]\n",
        "\n",
        "def adam_asmaca():\n",
        "    canlar = {\"Basit\":5, \"Orta\": 3, \"İleri\": 1}\n",
        "    while True: \n",
        "        seviye = input(\"Oynamak istediğiniz seviyeyi seçiniz (Basit, Orta, İleri): \")\n",
        "        if seviye in canlar:\n",
        "            adamCan = canlar[seviye]\n",
        "            break\n",
        "        else:\n",
        "            print(\"Geçersiz seviye! Lütfen tekrar deneyin.\")\n",
        "     \n",
        "    kategori = random.choice(kelimeler)\n",
        "    secilenKelime = random.choice(kelimeler)\n",
        "    dizilenKelime = [\"_\" for harf in secilenKelime]\n",
        "\n",
        "    print(\"Kategori: \", kategori)\n",
        "    print(\"İpucu: Kelimenin uzunluğu\", len(secilenKelime))\n",
        "    print(dizilenKelime)\n",
        "\n",
        "    while adamCan > 0:\n",
        "         girilenHarf = input(\"Bir harf giriniz: \").lower()\n",
        "         if girilenHarf in secilenKelime:\n",
        "             for i in range(len(secilenKelime)):\n",
        "                 if secilenKelime[i] == girilenHarf:\n",
        "                     dizilenKelime[i] = girilenHarf\n",
        "             if \"_\" not in dizilenKelime:\n",
        "                 print(\"Tebrikler! Kelimeyi doğru tahmin ettiniz.\")\n",
        "                 break\n",
        "         else:\n",
        "             adamCan -= 1\n",
        "             print(\"Yanlış tahmin! Kalan can:\", adamCan)\n",
        "\n",
        "         print(dizilenKelime)\n",
        "\n",
        "    if adamCan == 0:\n",
        "         print(\"Malesef canlarınız tükendi. Doğru kelime:\", secilenKelime)\n",
        "\n",
        "    yenidenOyna = input(\"Tekrar oynamak istiyor musunuz? (Evet/Hayır)\").lower()\n",
        "    if yenidenOyna == \"Evet\":\n",
        "         adam_asmaca()\n",
        "    else:\n",
        "         print(\"Oynadığınız için teşekkürler!\")\n",
        "\n",
        "adam_asmaca() "
      ],
      "metadata": {
        "colab": {
          "base_uri": "https://localhost:8080/"
        },
        "id": "4LJ82EkUGJcV",
        "outputId": "8193106d-53d9-4749-8dc0-6879dfa3ff85"
      },
      "execution_count": 9,
      "outputs": [
        {
          "output_type": "stream",
          "name": "stdout",
          "text": [
            "Oynamak istediğiniz seviyeyi seçiniz (Basit, Orta, İleri): Basit\n",
            "Kategori:  yeşil\n",
            "İpucu: Kelimenin uzunluğu 7\n",
            "['_', '_', '_', '_', '_', '_', '_']\n",
            "Bir harf giriniz: ı\n",
            "['_', 'ı', '_', '_', 'ı', '_', 'ı']\n",
            "Bir harf giriniz: k\n",
            "['k', 'ı', '_', '_', 'ı', '_', 'ı']\n",
            "Bir harf giriniz: l\n",
            "Yanlış tahmin! Kalan can: 4\n",
            "['k', 'ı', '_', '_', 'ı', '_', 'ı']\n",
            "Bir harf giriniz: y\n",
            "Yanlış tahmin! Kalan can: 3\n",
            "['k', 'ı', '_', '_', 'ı', '_', 'ı']\n",
            "Bir harf giriniz: n\n",
            "Yanlış tahmin! Kalan can: 2\n",
            "['k', 'ı', '_', '_', 'ı', '_', 'ı']\n",
            "Bir harf giriniz: z\n",
            "['k', 'ı', '_', '_', 'ı', 'z', 'ı']\n",
            "Bir harf giriniz: o\n",
            "Yanlış tahmin! Kalan can: 1\n",
            "['k', 'ı', '_', '_', 'ı', 'z', 'ı']\n",
            "Bir harf giriniz: o\n",
            "Yanlış tahmin! Kalan can: 0\n",
            "['k', 'ı', '_', '_', 'ı', 'z', 'ı']\n",
            "Malesef canlarınız tükendi. Doğru kelime: kırmızı\n",
            "Tekrar oynamak istiyor musunuz? (Evet/Hayır)hayır\n",
            "Oynadığınız için teşekkürler!\n"
          ]
        }
      ]
    }
  ]
}