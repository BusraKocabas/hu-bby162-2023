{
  "nbformat": 4,
  "nbformat_minor": 0,
  "metadata": {
    "colab": {
      "provenance": [],
      "authorship_tag": "ABX9TyOzj0ESTrOqq33Otq/MWBKP",
      "include_colab_link": true
    },
    "kernelspec": {
      "name": "python3",
      "display_name": "Python 3"
    },
    "language_info": {
      "name": "python"
    }
  },
  "cells": [
    {
      "cell_type": "markdown",
      "metadata": {
        "id": "view-in-github",
        "colab_type": "text"
      },
      "source": [
        "<a href=\"https://colab.research.google.com/github/BusraKocabas/hu-bby162-2023/blob/main/Proje01.ipynb\" target=\"_parent\"><img src=\"https://colab.research.google.com/assets/colab-badge.svg\" alt=\"Open In Colab\"/></a>"
      ]
    },
    {
      "cell_type": "markdown",
      "source": [
        "Büşra Kocabaş'ın \"proje01\" çalışmasıdır. İçinde yapılacaklar listesi ve bu listeye bazı öğeleri ekleme. çıkarma gibi işlemler bulunmaktadır."
      ],
      "metadata": {
        "id": "yfNvlFrjhmmz"
      }
    },
    {
      "cell_type": "code",
      "source": [
        "#Listenin Oluşturulduğu Yer\n",
        "yapilacaklar = [\"Projeyi tamamla\", \"Ders calis\", \"Yemek ye\", \"Alisveris yap\"]\n",
        "print(yapilacaklar)"
      ],
      "metadata": {
        "id": "IPvF73ooh-uP"
      },
      "execution_count": 1,
      "outputs": []
    },
    {
      "cell_type": "code",
      "source": [
        "#Listeye Veri Ekleme\n",
        "isler = input(\"Yapılacak işi giriniz: \")\n",
        "yapilacaklar.append(isler)"
      ],
      "metadata": {
        "colab": {
          "base_uri": "https://localhost:8080/"
        },
        "id": "yhftY35kjBN9",
        "outputId": "3f776707-cf4c-44d4-f922-fea74f27a41b"
      },
      "execution_count": 9,
      "outputs": [
        {
          "name": "stdout",
          "output_type": "stream",
          "text": [
            "Yapılacak işi giriniz: Ekmek al\n"
          ]
        }
      ]
    },
    {
      "cell_type": "code",
      "source": [
        "#Listenin Görüntülenmesi\n",
        "print(yapilacaklar)"
      ],
      "metadata": {
        "colab": {
          "base_uri": "https://localhost:8080/"
        },
        "id": "2IHx9BZij92l",
        "outputId": "3c1119f3-89b0-4f28-fad6-9c30be9248bf"
      },
      "execution_count": 10,
      "outputs": [
        {
          "output_type": "stream",
          "name": "stdout",
          "text": [
            "['Projeyi tamamla', 'Ders calis', 'Alisveris yap', 'Araştırma yap', 'Ekmek al']\n"
          ]
        }
      ]
    },
    {
      "cell_type": "code",
      "source": [
        "#Listenin içindeki bir işi silme\n",
        "yapilacaklar[2:3] = []\n",
        "print(yapilacaklar)"
      ],
      "metadata": {
        "colab": {
          "base_uri": "https://localhost:8080/"
        },
        "id": "MuyXhFe7nR58",
        "outputId": "c7bdde40-007b-4255-984d-4a72103d50f7"
      },
      "execution_count": 11,
      "outputs": [
        {
          "output_type": "stream",
          "name": "stdout",
          "text": [
            "['Projeyi tamamla', 'Ders calis', 'Araştırma yap', 'Ekmek al']\n"
          ]
        }
      ]
    },
    {
      "cell_type": "code",
      "source": [
        "#Listenin tamamını silme\n",
        "yapilacaklar[:] = []\n",
        "print(yapilacaklar)"
      ],
      "metadata": {
        "colab": {
          "base_uri": "https://localhost:8080/"
        },
        "id": "-hrE-PEVoelA",
        "outputId": "c1fc9fb8-4443-4500-8779-d649d0a77d9a"
      },
      "execution_count": 12,
      "outputs": [
        {
          "output_type": "stream",
          "name": "stdout",
          "text": [
            "[]\n"
          ]
        }
      ]
    }
  ]
}